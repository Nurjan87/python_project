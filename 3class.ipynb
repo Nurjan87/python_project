{
 "cells": [
  {
   "cell_type": "code",
   "execution_count": 1,
   "metadata": {},
   "outputs": [
    {
     "name": "stdout",
     "output_type": "stream",
     "text": [
      "Yes , you can go !!!\n"
     ]
    }
   ],
   "source": [
    "door = 'open'\n",
    "if door == 'open':\n",
    "    print('Yes , you can go !!!')\n",
    "else:\n",
    "    print('No, you can go!!!')\n",
    "    \n",
    "if door == 'close':\n",
    "    print('No , you can not go !!!')\n",
    "    "
   ]
  },
  {
   "cell_type": "code",
   "execution_count": 2,
   "metadata": {},
   "outputs": [],
   "source": [
    "door = 'sakdgh'\n",
    "if door == 'open':\n",
    "    print('Yes, you can go !!!')\n"
   ]
  },
  {
   "cell_type": "code",
   "execution_count": 1,
   "metadata": {},
   "outputs": [
    {
     "name": "stdout",
     "output_type": "stream",
     "text": [
      "What is your name? :anna\n",
      "Hello Anna\n"
     ]
    }
   ],
   "source": [
    "name = input('What is your name? :')\n",
    "name = name.capitalize()\n",
    "if name == 'anna':\n",
    "    print('Privet ' + name)\n",
    "elif name == 'nurjan':\n",
    "     print('hi ' + name)\n",
    "else:\n",
    "    print('Hello ' + name)"
   ]
  },
  {
   "cell_type": "code",
   "execution_count": null,
   "metadata": {},
   "outputs": [],
   "source": [
    "black_list = ['Abdul', 'nurjan', 'Aijaml']\n",
    "student = input(\"What is your name? \")\n",
    "\n",
    "student = student.lower()\n",
    "\n",
    "if student in black_list:\n",
    "    print('Sorry you can not come in ')\n",
    "else:\n",
    "    print('Hello come in')\n",
    "    "
   ]
  },
  {
   "cell_type": "code",
   "execution_count": null,
   "metadata": {},
   "outputs": [],
   "source": [
    "name = input('What is your name? :').capitalize()\n",
    "print(name)"
   ]
  },
  {
   "cell_type": "code",
   "execution_count": 5,
   "metadata": {},
   "outputs": [
    {
     "name": "stdout",
     "output_type": "stream",
     "text": [
      "What is your name? :nurjan\n",
      "What is your birthday <year>? :1199\n",
      "Your name is :Nurjan, Your age is  :820\n"
     ]
    }
   ],
   "source": [
    "name = input('What is your name? :').capitalize()\n",
    "year = int(input('What is your birthday <year>? :'))\n",
    "age =2019 - year\n",
    "print(f'Your name is :{name}, Your age is  :{age}')"
   ]
  },
  {
   "cell_type": "code",
   "execution_count": 8,
   "metadata": {},
   "outputs": [
    {
     "name": "stdout",
     "output_type": "stream",
     "text": [
      "Door is close!!\n"
     ]
    }
   ],
   "source": [
    "door = False # True \n",
    "if door:\n",
    "    print('Pliease come in!!')\n",
    "else:\n",
    "    print('Door is close!!')"
   ]
  },
  {
   "cell_type": "code",
   "execution_count": 39,
   "metadata": {},
   "outputs": [
    {
     "name": "stdout",
     "output_type": "stream",
     "text": [
      "#############################################\n",
      "####### information about Abdul sharif #######\n",
      "#############################################\n",
      "## Username: asharif\n",
      "## Full Name: {student[\"firs_tname\"]} {student[\"last_name\"]}\n",
      "## User can not login\n",
      "classsPython\n",
      "## User attends Python class\n"
     ]
    }
   ],
   "source": [
    "student = {\n",
    "    'first_name': 'Abdul',\n",
    "    'last_name': 'sharif', \n",
    "    'username': 'asharif',\n",
    "    'password': 'redhat',\n",
    "    'status': False,\n",
    "    'class': ['Python', 'Terraform', 'Ansible']\n",
    "          }\n",
    "print('#############################################')\n",
    "print(f'####### information about {student[\"first_name\"]} {student[\"last_name\"]} #######')\n",
    "print(f'#############################################')\n",
    "print(f'## Username: {student[\"username\"]}')\n",
    "print('## Full Name: {student[\"firs_tname\"]} {student[\"last_name\"]}')\n",
    "if student[\"status\"]:\n",
    "      print('## User can login')\n",
    "else:\n",
    "      print('## User can not login')\n",
    "      \n",
    "st_class = input('classs')\n",
    "if st_class in student['class']:\n",
    "      print(f'## User attends {st_class} class')\n",
    "else:\n",
    "      print(f'## User does not attend any classes')\n",
    "      \n",
    "# if 'Python' in student['class']:\n",
    "#       print(f'## User attends Python class')\n",
    "# if 'Terraform' in student['class']:\n",
    "#       print(f'## User attends Terrform class')\n",
    "# if 'Ansible' in student['class']:\n",
    "#       print(f'## User attends Ansible class')"
   ]
  },
  {
   "cell_type": "code",
   "execution_count": null,
   "metadata": {},
   "outputs": [],
   "source": []
  }
 ],
 "metadata": {
  "kernelspec": {
   "display_name": "Python 3",
   "language": "python",
   "name": "python3"
  },
  "language_info": {
   "codemirror_mode": {
    "name": "ipython",
    "version": 3
   },
   "file_extension": ".py",
   "mimetype": "text/x-python",
   "name": "python",
   "nbconvert_exporter": "python",
   "pygments_lexer": "ipython3",
   "version": "3.6.5"
  }
 },
 "nbformat": 4,
 "nbformat_minor": 2
}
