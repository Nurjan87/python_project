{
 "cells": [
  {
   "cell_type": "markdown",
   "metadata": {},
   "source": [
    "\n",
    "# Task 1 data types \n",
    "\n",
    "1. Create string data type variable call `my_string` value should be `This is my string type variable.` and print  on next line. \n",
    "2. Create variable call `my_cuted_string` value should be `is my st`  you should cut from `my_string` and print on next line. \n",
    "3. Create int type variable call `my_integer` value should be year on your birthday. \n",
    "4. Create variable call `my_age` and value should count from `my_integer` variable and print on next line. \n",
    "5. Create variable call `my_name`  value should be your first name and print on next line `My name is :` your name `and i am :`your age .  \n",
    "6. Create list call `my_users`   with contents should be `Abby`, `Jace`, `Nevaeh` and print on next line.  \n",
    "7. Add user `Emma` after `Jase`  and print on next line.  \n",
    "8. Check 2 user's name is `Jace` True or False\n",
    "9. Push to repository and send picture of the result.\n"
   ]
  },
  {
   "cell_type": "code",
   "execution_count": 2,
   "metadata": {},
   "outputs": [
    {
     "name": "stdout",
     "output_type": "stream",
     "text": [
      "This is my string type varible\n"
     ]
    }
   ],
   "source": [
    "my_integer = 'This is my string type varible'\n",
    "print(my_integer)"
   ]
  },
  {
   "cell_type": "code",
   "execution_count": 4,
   "metadata": {},
   "outputs": [
    {
     "name": "stdout",
     "output_type": "stream",
     "text": [
      " is my st\n"
     ]
    }
   ],
   "source": [
    "my_string = 'This is my string type variable.'\n",
    "word1, word2, word3, word4, word5, word6 = my_string.split (' ')\n",
    "total = f' {word1} {word2} {word3} {word4} {word5} {word6}'\n",
    "print (total[5:14])\n"
   ]
  },
  {
   "cell_type": "code",
   "execution_count": null,
   "metadata": {},
   "outputs": [],
   "source": [
    "my_byear = 1990\n",
    "print(my_byear)\n",
    "type(my_byear)"
   ]
  },
  {
   "cell_type": "code",
   "execution_count": null,
   "metadata": {},
   "outputs": [],
   "source": [
    "my_age = 11\n",
    "print(my_age)\n",
    "type(my_age)\n",
    "    "
   ]
  },
  {
   "cell_type": "code",
   "execution_count": null,
   "metadata": {},
   "outputs": [],
   "source": [
    "my_name = \"MY-name-is-Nurjan\"\n",
    "print(my_name.replace('-', ' '))\n",
    "my_age = \"I-am-11\"\n",
    "print(my_age.replace('-', ' '))\n",
    "type(my_age)\n",
    "    \n",
    "\n",
    "\n"
   ]
  },
  {
   "cell_type": "code",
   "execution_count": null,
   "metadata": {},
   "outputs": [],
   "source": [
    "my_users = \"Abby,Jace,Nevaeh\"\n",
    "print(my_users)\n"
   ]
  },
  {
   "cell_type": "code",
   "execution_count": null,
   "metadata": {},
   "outputs": [],
   "source": [
    "users = ['Emma']\n",
    "users.append('Jase')\n",
    "users.append('sayed')\n",
    "print(users)"
   ]
  },
  {
   "cell_type": "code",
   "execution_count": null,
   "metadata": {},
   "outputs": [],
   "source": []
  }
 ],
 "metadata": {
  "kernelspec": {
   "display_name": "Python 3",
   "language": "python",
   "name": "python3"
  }
 },
 "nbformat": 4,
 "nbformat_minor": 2
}
