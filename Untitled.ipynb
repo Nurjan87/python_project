{
 "cells": [
  {
   "cell_type": "code",
   "execution_count": 55,
   "metadata": {},
   "outputs": [
    {
     "name": "stdout",
     "output_type": "stream",
     "text": [
      "Hello World\n"
     ]
    }
   ],
   "source": [
    "print('Hello World')"
   ]
  },
  {
   "cell_type": "code",
   "execution_count": 2,
   "metadata": {},
   "outputs": [
    {
     "name": "stdout",
     "output_type": "stream",
     "text": [
      "Help on built-in function dir in module builtins:\n",
      "\n",
      "dir(...)\n",
      "    dir([object]) -> list of strings\n",
      "    \n",
      "    If called without an argument, return the names in the current scope.\n",
      "    Else, return an alphabetized list of names comprising (some of) the attributes\n",
      "    of the given object, and of attributes reachable from it.\n",
      "    If the object supplies a method named __dir__, it will be used; otherwise\n",
      "    the default dir() logic is used and returns:\n",
      "      for a module object: the module's attributes.\n",
      "      for a class object:  its attributes, and recursively the attributes\n",
      "        of its bases.\n",
      "      for any other object: its attributes, its class's attributes, and\n",
      "        recursively the attributes of its class's base classes.\n",
      "\n"
     ]
    }
   ],
   "source": [
    "var = 'This is my string'\n",
    "help(dir)"
   ]
  },
  {
   "cell_type": "code",
   "execution_count": 8,
   "metadata": {},
   "outputs": [
    {
     "data": {
      "text/plain": [
       "bool"
      ]
     },
     "execution_count": 8,
     "metadata": {},
     "output_type": "execute_result"
    }
   ],
   "source": [
    "var = True \n",
    "mystring = 'example'\n",
    "\n",
    "type(var)\n"
   ]
  },
  {
   "cell_type": "code",
   "execution_count": 14,
   "metadata": {},
   "outputs": [
    {
     "name": "stdout",
     "output_type": "stream",
     "text": [
      "amp\n"
     ]
    }
   ],
   "source": [
    "mynum = 1111\n",
    "\n",
    "data = range(1, 10)\n",
    "mystring = 'Example'\n",
    "print(mystring[2:5])"
   ]
  },
  {
   "cell_type": "code",
   "execution_count": 57,
   "metadata": {},
   "outputs": [
    {
     "name": "stdout",
     "output_type": "stream",
     "text": [
      "['nurjan', 'nadira', 'sayed', 'nurjamal']\n",
      "0\n",
      "['user', 'nadira', 'sayed', 'nurjamal']\n"
     ]
    }
   ],
   "source": [
    "users = ['nurjan'] \n",
    "users.append('nadira')\n",
    "users.append('sayed')\n",
    "users.append('nurjamal')\n",
    "print(users)\n",
    "\n",
    "#users.append('example string')\n",
    "#print(users.count('nurjan'))\n",
    "\n",
    "print(users.index('nurjan'))\n",
    "foundIndex = users.index('nurjan')\n",
    "users.pop(foundIndex)\n",
    "users.insert(0, 'user')\n",
    "#users.append(True)\n",
    "#users.remove(True)\n",
    "print(users)"
   ]
  },
  {
   "cell_type": "code",
   "execution_count": 36,
   "metadata": {},
   "outputs": [
    {
     "name": "stdout",
     "output_type": "stream",
     "text": [
      "{'type': 'Fruit', 'color': 'orange', 'count': 1}\n",
      "dict_values(['Fruit', 'orange', 1])\n"
     ]
    }
   ],
   "source": [
    "mydict = { 'type' : 'Fruit', 'color' : 'orange' }\n",
    "mydict['count'] = 1\n",
    "print(mydict)\n",
    "mylist = mydict.values()\n",
    "print(mylist)\n"
   ]
  },
  {
   "cell_type": "code",
   "execution_count": 51,
   "metadata": {},
   "outputs": [
    {
     "name": "stdout",
     "output_type": "stream",
     "text": [
      "fruit\n"
     ]
    }
   ],
   "source": [
    "mydict = {'type' : \"fruit\", \"color\" : \"Orenge\", 'count' : 100}\n",
    "print(mydict['type'])"
   ]
  },
  {
   "cell_type": "code",
   "execution_count": 54,
   "metadata": {},
   "outputs": [
    {
     "name": "stdout",
     "output_type": "stream",
     "text": [
      "dict_keys(['type', 'color', 'clor', 'count'])\n",
      "dict_values(['fruit', 'Orange', 'red', 1])\n",
      "['data1', 'data2', 'data3']\n",
      "{'username': 'tnurjan', 'firstname': 'nurjan', 'lastname': 'turganbaeva'}\n"
     ]
    }
   ],
   "source": [
    "mydict = { 'type' : \"fruit\", \"color\" : \"Orange\",}\n",
    "mydict[\"clor\"] = \"red\"\n",
    "mydict[\"count\"] = 1\n",
    "\n",
    "\n",
    "print(mydict.keys())\n",
    "print(mydict.values())\n",
    "\n",
    "user = dict(username='tnurjan', firstname='nurjan', lastname=\"turganbaeva\")\n",
    "mylist = list([\"data1\", 'data2', 'data3'])\n",
    "print(mylist)\n",
    "print(user)\n"
   ]
  },
  {
   "cell_type": "code",
   "execution_count": null,
   "metadata": {},
   "outputs": [],
   "source": []
  },
  {
   "cell_type": "code",
   "execution_count": null,
   "metadata": {},
   "outputs": [],
   "source": []
  }
 ],
 "metadata": {
  "kernelspec": {
   "display_name": "Python 3",
   "language": "python",
   "name": "python3"
  },
  "language_info": {
   "codemirror_mode": {
    "name": "ipython",
    "version": 3
   },
   "file_extension": ".py",
   "mimetype": "text/x-python",
   "name": "python",
   "nbconvert_exporter": "python",
   "pygments_lexer": "ipython3",
   "version": "3.6.5"
  }
 },
 "nbformat": 4,
 "nbformat_minor": 2
}
