{
 "cells": [
  {
   "cell_type": "code",
   "execution_count": null,
   "metadata": {},
   "outputs": [],
   "source": [
    "users = ['Abdul', 'Nodira', 'Zhanna']\n",
    "#for user in users:\n",
    "#    print(user)\n",
    "    \n",
    "for item in range(0,3):\n",
    "    print('Hello')"
   ]
  },
  {
   "cell_type": "code",
   "execution_count": null,
   "metadata": {},
   "outputs": [],
   "source": [
    "data = [\n",
    "    {\n",
    "    \"avatar\": \"https://s3.amazonaws.com/uifaces/faces/twitter/marcoramires/128.jpg\",\n",
    "    \"first_name\": \"Eve\",\n",
    "    \"id\": 4,\n",
    "    \"last_name\": \"Holt\"\n",
    "    },\n",
    "    {\n",
    "    \"avatar\": \"https://s3.amazonaws.com/uifaces/faces/twitter/stephenmoon/128.jpg\",\n",
    "    \"first_name\": \"Charles\",\n",
    "    \"id\": 5,\n",
    "    \"last_name\": \"Morris\"\n",
    "    },\n",
    "    {\n",
    "    \"avatar\": \"https://s3.amazonaws.com/uifaces/faces/twitter/bigmancho/128.jpg\",\n",
    "    \"first_name\": \"Tracey\",\n",
    "    \"id\": 6,\n",
    "    \"last_name\": \"Ramos\"\n",
    "    }\n",
    "]\n",
    "#for name in data:\n",
    " #   if name['first_name'] == 'Charles':\n",
    "  #      print(name)\n",
    "while True:\n",
    "    print:('Hello')"
   ]
  },
  {
   "cell_type": "code",
   "execution_count": null,
   "metadata": {},
   "outputs": [],
   "source": [
    "my_string = 'This is my stirng'\n",
    "#          print(my_string)\n",
    "\n",
    "   \n",
    "for item in my_string.split(' '):\n",
    "    if 'This' == item:\n",
    "        print('Yes it is')\n",
    "    \n",
    "if 'This' in my_string:\n",
    "    print('Yes it is')\n",
    "    \n",
    "    \n",
    "    \n",
    "\n",
    "    \n",
    "    "
   ]
  },
  {
   "cell_type": "code",
   "execution_count": null,
   "metadata": {},
   "outputs": [],
   "source": [
    "import os\n",
    "user = ['Anna', 'Zhanna', 'Abdul', 'Alibek']\n",
    "for user in users:\n",
    "    print(user)\n",
    "    print(user)\n",
    "    os.system(f'useradd {user}')"
   ]
  },
  {
   "cell_type": "code",
   "execution_count": null,
   "metadata": {},
   "outputs": [],
   "source": [
    "for user in data:\n",
    "    if 'Nurjan' == user['first_name']:\n",
    "        print('User found')\n",
    "else:\n",
    "    print('User can not found')"
   ]
  },
  {
   "cell_type": "code",
   "execution_count": null,
   "metadata": {},
   "outputs": [],
   "source": [
    "student = {'username': 'nurjan',\n",
    "           'password' : 'redhat',\n",
    "           'classes' : ['Python', 'Jenkins', 'Ansible']\n",
    "          }\n",
    "print('##############################')\n",
    "print(f'## {student[\"username\"]}')\n",
    "for item in student['classes']:\n",
    "      print(item)"
   ]
  },
  {
   "cell_type": "code",
   "execution_count": 2,
   "metadata": {},
   "outputs": [
    {
     "name": "stdout",
     "output_type": "stream",
     "text": [
      "Please enter Full Name :nurjan turganbaeva\n",
      "Please enter username :nurjan87\n",
      "Please enter password :87\n",
      "User has been created!\n",
      "Do you wont to stop it yes/no:no\n",
      "Please enter Full Name :nural;g\n",
      "Please enter username :nu\n",
      "Please enter password :la;j\n",
      "User has been created!\n",
      "Do you wont to stop it yes/no:y\n",
      "Bye!!!\n"
     ]
    }
   ],
   "source": [
    "dataBase = []\n",
    "import time \n",
    "yesAnswer = ['YES','Yes', 'y', 'Y', 'yes']\n",
    "while True:\n",
    "    studentObject = {}\n",
    "    studentObject ['full_name'] = input('Please enter Full Name :')\n",
    "    studentObject ['username'] = input('Please enter username :')\n",
    "    studentObject ['password'] = input('Please enter password :')\n",
    "    time.sleep(2)\n",
    "    dataBase.append(studentObject)\n",
    "    print('User has been created!')\n",
    "    answer = input('Do you wont to stop it yes/no:')\n",
    "    if answer in yesAnswer:\n",
    "        print('Bye!!!')\n",
    "        break\n",
    "   # registeredUsers.append(studentObject)"
   ]
  },
  {
   "cell_type": "code",
   "execution_count": null,
   "metadata": {},
   "outputs": [],
   "source": []
  },
  {
   "cell_type": "code",
   "execution_count": null,
   "metadata": {},
   "outputs": [],
   "source": []
  }
 ],
 "metadata": {
  "kernelspec": {
   "display_name": "Python 3",
   "language": "python",
   "name": "python3"
  },
  "language_info": {
   "codemirror_mode": {
    "name": "ipython",
    "version": 3
   },
   "file_extension": ".py",
   "mimetype": "text/x-python",
   "name": "python",
   "nbconvert_exporter": "python",
   "pygments_lexer": "ipython3",
   "version": "3.6.5"
  }
 },
 "nbformat": 4,
 "nbformat_minor": 2
}
