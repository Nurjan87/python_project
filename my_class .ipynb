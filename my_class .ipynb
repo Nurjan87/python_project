{
 "cells": [
  {
   "cell_type": "code",
   "execution_count": 13,
   "metadata": {},
   "outputs": [
    {
     "name": "stdout",
     "output_type": "stream",
     "text": [
      "this is my string\n"
     ]
    }
   ],
   "source": [
    "my_string = 'THIS IS MY STRING'\n",
    "print(my_string.lower())\n",
    "print(my_s)\n",
    "\n",
    "#my_second_string = 'nurjan'\n",
    "\n",
    "#city = 'london'\n",
    "#fix = city.capitalize()\n",
    "#print(fix)\n",
    "#print(my_string.count('i'))\n",
    "#dir(my_second_string)\n",
    "#print(my_second_string.capitalize())"
   ]
  },
  {
   "cell_type": "code",
   "execution_count": null,
   "metadata": {},
   "outputs": [],
   "source": [
    "word1 = 'This'\n",
    "word2 = 'is '\n",
    "word3 = 'String'\n",
    "total = word1.join(word2)\n",
    "pringt(total)"
   ]
  },
  {
   "cell_type": "code",
   "execution_count": 20,
   "metadata": {},
   "outputs": [
    {
     "name": "stdout",
     "output_type": "stream",
     "text": [
      "This is my string\n",
      "is my\n"
     ]
    }
   ],
   "source": [
    "mydata = 'This is my string'\n",
    "word1, word2, word3, word4 = mydata.split(' ')\n",
    "total = f'{word1} {word2} {word3} {word4}'\n",
    "\n",
    "print(total)\n",
    "\n",
    "print(total[5:10])\n"
   ]
  },
  {
   "cell_type": "code",
   "execution_count": 22,
   "metadata": {},
   "outputs": [
    {
     "name": "stdout",
     "output_type": "stream",
     "text": [
      "This is my string\n"
     ]
    }
   ],
   "source": [
    "my_string = ' this is my string '\n",
    "print(my_string.strip().capitalize())"
   ]
  },
  {
   "cell_type": "code",
   "execution_count": 23,
   "metadata": {},
   "outputs": [
    {
     "name": "stdout",
     "output_type": "stream",
     "text": [
      "This is my string\n"
     ]
    }
   ],
   "source": [
    "my_string = 'This-is-my-string'\n",
    "print(my_string.replace('-', ' '))\n"
   ]
  },
  {
   "cell_type": "code",
   "execution_count": null,
   "metadata": {},
   "outputs": [],
   "source": [
    "!git add . && git commit -m 'example class' && git push origin master"
   ]
  },
  {
   "cell_type": "code",
   "execution_count": null,
   "metadata": {},
   "outputs": [],
   "source": []
  }
 ],
 "metadata": {
  "kernelspec": {
   "display_name": "Python 3",
   "language": "python",
   "name": "python3"
  },
  "language_info": {
   "codemirror_mode": {
    "name": "ipython",
    "version": 3
   },
   "file_extension": ".py",
   "mimetype": "text/x-python",
   "name": "python",
   "nbconvert_exporter": "python",
   "pygments_lexer": "ipython3",
   "version": "3.6.5"
  }
 },
 "nbformat": 4,
 "nbformat_minor": 2
}
