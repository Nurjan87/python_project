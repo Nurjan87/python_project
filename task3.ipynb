{
 "cells": [
  {
   "cell_type": "code",
   "execution_count": 1,
   "metadata": {},
   "outputs": [],
   "source": [
    "female = []\n",
    "male   = []\n",
    "user1  = {'username': 'keving',\n",
    "          'status': 'True', \n",
    "          'first_name': 'keving', \n",
    "          'last_name': 'wick', \n",
    "          'gender': 'male', \n",
    "          'member': 'FuchiCorp'\n",
    "         }\n",
    "user2  = {'username': 'cutiebun', \n",
    "          'status': 'False',\n",
    "          'first_name': 'Emma', \n",
    "          ' last_name': 'Gipson', \n",
    "          'gender': 'female',\n",
    "          'member': 'Apple' \n",
    "         }"
   ]
  },
  {
   "cell_type": "code",
   "execution_count": null,
   "metadata": {},
   "outputs": [],
   "source": []
  }
 ],
 "metadata": {
  "kernelspec": {
   "display_name": "Python 3",
   "language": "python",
   "name": "python3"
  },
  "language_info": {
   "codemirror_mode": {
    "name": "ipython",
    "version": 3
   },
   "file_extension": ".py",
   "mimetype": "text/x-python",
   "name": "python",
   "nbconvert_exporter": "python",
   "pygments_lexer": "ipython3",
   "version": "3.6.5"
  }
 },
 "nbformat": 4,
 "nbformat_minor": 2
}
